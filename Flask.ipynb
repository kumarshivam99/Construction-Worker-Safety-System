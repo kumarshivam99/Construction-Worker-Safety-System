{
  "nbformat": 4,
  "nbformat_minor": 0,
  "metadata": {
    "colab": {
      "name": "Flask.ipynb",
      "provenance": [],
      "collapsed_sections": [],
      "authorship_tag": "ABX9TyN+9qTgJjciIh+tsolOMVqo",
      "include_colab_link": true
    },
    "kernelspec": {
      "name": "python3",
      "display_name": "Python 3"
    },
    "language_info": {
      "name": "python"
    }
  },
  "cells": [
    {
      "cell_type": "markdown",
      "metadata": {
        "id": "view-in-github",
        "colab_type": "text"
      },
      "source": [
        "<a href=\"https://colab.research.google.com/github/kumarshivam99/Construction-Worker-Safety-System/blob/main/Flask.ipynb\" target=\"_parent\"><img src=\"https://colab.research.google.com/assets/colab-badge.svg\" alt=\"Open In Colab\"/></a>"
      ]
    },
    {
      "cell_type": "code",
      "metadata": {
        "colab": {
          "base_uri": "https://localhost:8080/"
        },
        "id": "vukoBjMEtqhI",
        "outputId": "1adb83d9-44c9-4090-856a-4c2d7663376b"
      },
      "source": [
        "from google.colab import drive\n",
        "drive.mount('/content/drive')"
      ],
      "execution_count": null,
      "outputs": [
        {
          "output_type": "stream",
          "text": [
            "Mounted at /content/drive\n"
          ],
          "name": "stdout"
        }
      ]
    },
    {
      "cell_type": "code",
      "metadata": {
        "colab": {
          "base_uri": "https://localhost:8080/"
        },
        "id": "ntrbWuThtuei",
        "outputId": "5a5ae085-f56e-4f63-d748-152229e14768"
      },
      "source": [
        "%cd /content/drive/My Drive/deployment"
      ],
      "execution_count": null,
      "outputs": [
        {
          "output_type": "stream",
          "text": [
            "/content/drive/My Drive/deployment\n"
          ],
          "name": "stdout"
        }
      ]
    },
    {
      "cell_type": "code",
      "metadata": {
        "colab": {
          "base_uri": "https://localhost:8080/"
        },
        "id": "7WwC8YM7ubQN",
        "outputId": "e568f057-801d-405d-9e6c-893bf7e2114a"
      },
      "source": [
        "%ls"
      ],
      "execution_count": null,
      "outputs": [
        {
          "output_type": "stream",
          "text": [
            "photo.jpg  \u001b[0m\u001b[01;34mstatic\u001b[0m/  \u001b[01;34mtemplates\u001b[0m/  Untitled0.ipynb  web.html\n"
          ],
          "name": "stdout"
        }
      ]
    },
    {
      "cell_type": "code",
      "metadata": {
        "id": "jCV6fzCSwvmW"
      },
      "source": [
        "import os\n",
        "\n",
        "if not os.path.exists('templates'):\n",
        "  os.makedirs('templates')\n",
        "if not os.path.exists('static'):\n",
        "  os.makedirs('static')  "
      ],
      "execution_count": null,
      "outputs": []
    },
    {
      "cell_type": "code",
      "metadata": {
        "colab": {
          "base_uri": "https://localhost:8080/"
        },
        "id": "7aHNq_lqplKN",
        "outputId": "d555bc06-eb49-4017-d28f-279fee3a0013"
      },
      "source": [
        "!pip install flask-ngrok"
      ],
      "execution_count": null,
      "outputs": [
        {
          "output_type": "stream",
          "text": [
            "Requirement already satisfied: flask-ngrok in /usr/local/lib/python3.7/dist-packages (0.0.25)\n",
            "Requirement already satisfied: requests in /usr/local/lib/python3.7/dist-packages (from flask-ngrok) (2.23.0)\n",
            "Requirement already satisfied: Flask>=0.8 in /usr/local/lib/python3.7/dist-packages (from flask-ngrok) (0.12.2)\n",
            "Requirement already satisfied: certifi>=2017.4.17 in /usr/local/lib/python3.7/dist-packages (from requests->flask-ngrok) (2020.12.5)\n",
            "Requirement already satisfied: idna<3,>=2.5 in /usr/local/lib/python3.7/dist-packages (from requests->flask-ngrok) (2.10)\n",
            "Requirement already satisfied: chardet<4,>=3.0.2 in /usr/local/lib/python3.7/dist-packages (from requests->flask-ngrok) (3.0.4)\n",
            "Requirement already satisfied: urllib3!=1.25.0,!=1.25.1,<1.26,>=1.21.1 in /usr/local/lib/python3.7/dist-packages (from requests->flask-ngrok) (1.24.3)\n",
            "Requirement already satisfied: Werkzeug>=0.7 in /usr/local/lib/python3.7/dist-packages (from Flask>=0.8->flask-ngrok) (1.0.1)\n",
            "Requirement already satisfied: itsdangerous>=0.21 in /usr/local/lib/python3.7/dist-packages (from Flask>=0.8->flask-ngrok) (1.1.0)\n",
            "Requirement already satisfied: click>=2.0 in /usr/local/lib/python3.7/dist-packages (from Flask>=0.8->flask-ngrok) (7.1.2)\n",
            "Requirement already satisfied: Jinja2>=2.4 in /usr/local/lib/python3.7/dist-packages (from Flask>=0.8->flask-ngrok) (2.11.3)\n",
            "Requirement already satisfied: MarkupSafe>=0.23 in /usr/local/lib/python3.7/dist-packages (from Jinja2>=2.4->Flask>=0.8->flask-ngrok) (1.1.1)\n"
          ],
          "name": "stdout"
        }
      ]
    },
    {
      "cell_type": "code",
      "metadata": {
        "colab": {
          "base_uri": "https://localhost:8080/"
        },
        "id": "6o27bOQl7c2F",
        "outputId": "dc685b06-d136-442e-b311-421c98cd26b7"
      },
      "source": [
        "!pip install flask==0.12.2"
      ],
      "execution_count": null,
      "outputs": [
        {
          "output_type": "stream",
          "text": [
            "Collecting flask==0.12.2\n",
            "\u001b[?25l  Downloading https://files.pythonhosted.org/packages/77/32/e3597cb19ffffe724ad4bf0beca4153419918e7fa4ba6a34b04ee4da3371/Flask-0.12.2-py2.py3-none-any.whl (83kB)\n",
            "\r\u001b[K     |████                            | 10kB 15.4MB/s eta 0:00:01\r\u001b[K     |████████                        | 20kB 19.6MB/s eta 0:00:01\r\u001b[K     |███████████▉                    | 30kB 23.9MB/s eta 0:00:01\r\u001b[K     |███████████████▉                | 40kB 23.8MB/s eta 0:00:01\r\u001b[K     |███████████████████▊            | 51kB 21.6MB/s eta 0:00:01\r\u001b[K     |███████████████████████▊        | 61kB 18.1MB/s eta 0:00:01\r\u001b[K     |███████████████████████████▋    | 71kB 18.2MB/s eta 0:00:01\r\u001b[K     |███████████████████████████████▋| 81kB 16.1MB/s eta 0:00:01\r\u001b[K     |████████████████████████████████| 92kB 7.1MB/s \n",
            "\u001b[?25hRequirement already satisfied: click>=2.0 in /usr/local/lib/python3.7/dist-packages (from flask==0.12.2) (7.1.2)\n",
            "Requirement already satisfied: Jinja2>=2.4 in /usr/local/lib/python3.7/dist-packages (from flask==0.12.2) (2.11.3)\n",
            "Requirement already satisfied: itsdangerous>=0.21 in /usr/local/lib/python3.7/dist-packages (from flask==0.12.2) (1.1.0)\n",
            "Requirement already satisfied: Werkzeug>=0.7 in /usr/local/lib/python3.7/dist-packages (from flask==0.12.2) (1.0.1)\n",
            "Requirement already satisfied: MarkupSafe>=0.23 in /usr/local/lib/python3.7/dist-packages (from Jinja2>=2.4->flask==0.12.2) (1.1.1)\n",
            "Installing collected packages: flask\n",
            "  Found existing installation: Flask 1.1.2\n",
            "    Uninstalling Flask-1.1.2:\n",
            "      Successfully uninstalled Flask-1.1.2\n",
            "Successfully installed flask-0.12.2\n"
          ],
          "name": "stdout"
        }
      ]
    },
    {
      "cell_type": "code",
      "metadata": {
        "colab": {
          "base_uri": "https://localhost:8080/"
        },
        "id": "55Kico3CtnFI",
        "outputId": "0c0d4edb-13f4-4d96-9ca4-709050b9fe4f"
      },
      "source": [
        "#!pip install flask-ngrok\n",
        "from flask_ngrok import run_with_ngrok\n",
        "from flask import Flask,render_template\n",
        "##Running the flask app\n",
        "PORT = 5000\n",
        "app =Flask(__name__)\n",
        "#We need to start ngrok when the app is run\n",
        "run_with_ngrok(app)\n",
        "@app.route(\"/\")\n",
        "def index():\n",
        "  return render_template('index.html')\n",
        "@app.route(\"/about\")\n",
        "def about():\n",
        "  return render_template('about.html')\n",
        "\n",
        "app.run()    "
      ],
      "execution_count": null,
      "outputs": [
        {
          "output_type": "stream",
          "text": [
            " * Serving Flask app \"__main__\" (lazy loading)\n",
            " * Environment: production\n",
            "\u001b[31m   WARNING: This is a development server. Do not use it in a production deployment.\u001b[0m\n",
            "\u001b[2m   Use a production WSGI server instead.\u001b[0m\n",
            " * Debug mode: off\n"
          ],
          "name": "stdout"
        },
        {
          "output_type": "stream",
          "text": [
            " * Running on http://127.0.0.1:5000/ (Press CTRL+C to quit)\n"
          ],
          "name": "stderr"
        },
        {
          "output_type": "stream",
          "text": [
            " * Running on http://c3bae2bc53ba.ngrok.io\n",
            " * Traffic stats available on http://127.0.0.1:4040\n"
          ],
          "name": "stdout"
        }
      ]
    },
    {
      "cell_type": "code",
      "metadata": {
        "id": "y9o6H9c3V1V4"
      },
      "source": [
        "index=\"\"\"<!DOCTYPE html>\n",
        "<html>\n",
        "<body>\n",
        "\n",
        "<h2>Relative URLs</h2>\n",
        "<nav>\n",
        "<p><a href=\"http://d9617a9d84a5.ngrok.io/about\">CSS Tutorial</a></p>\n",
        "</nav>\n",
        "\n",
        "</body>\n",
        "</html>\n",
        "\"\"\"\n",
        "file=open(\"templates/index.html\",\"w\")  \n",
        "file.write(index)\n",
        "file.close()"
      ],
      "execution_count": null,
      "outputs": []
    },
    {
      "cell_type": "code",
      "metadata": {
        "id": "7GhqU7vv30ea"
      },
      "source": [
        "about=\"\"\"<!DOCTYPE html>\n",
        "<html>\n",
        "<body>\n",
        "\n",
        "<h2>about</h2>\n",
        "\n",
        "</body>\n",
        "</html>\n",
        "\"\"\"\n",
        "file=open(\"templates/about.html\",\"w\")  \n",
        "file.write(about)\n",
        "file.close()"
      ],
      "execution_count": null,
      "outputs": []
    },
    {
      "cell_type": "code",
      "metadata": {
        "id": "xdiZy9i-NXVr"
      },
      "source": [
        "from IPython.display import display, Javascript\n",
        "from google.colab.output import eval_js\n",
        "from base64 import b64decode, b64encode\n",
        "from PIL import Image\n",
        "import numpy as np\n",
        "import io\n",
        "\n",
        "# Importing the libraries\n",
        "from PIL import Image\n",
        "from keras.applications.vgg16 import preprocess_input\n",
        "import base64\n",
        "from io import BytesIO\n",
        "import json\n",
        "import random\n",
        "import cv2\n",
        "from google.colab.patches import cv2_imshow\n",
        "\n",
        "def VideoCapture():\n",
        "  js = Javascript('''\n",
        "    async function create(){\n",
        "      div = document.createElement('div');\n",
        "      document.body.appendChild(div);\n",
        "\n",
        "      video = document.createElement('video');\n",
        "      video.setAttribute('playsinline', '');\n",
        "\n",
        "      div.appendChild(video);\n",
        "\n",
        "      stream = await navigator.mediaDevices.getUserMedia({video: {facingMode: \"environment\"}});\n",
        "      video.srcObject = stream;\n",
        "\n",
        "      await video.play();\n",
        "\n",
        "      canvas =  document.createElement('canvas');\n",
        "      canvas.width = video.videoWidth;\n",
        "      canvas.height = video.videoHeight;\n",
        "      canvas.getContext('2d').drawImage(video, 0, 0);\n",
        "\n",
        "      div_out = document.createElement('div');\n",
        "      document.body.appendChild(div_out);\n",
        "      img = document.createElement('img');\n",
        "      div_out.appendChild(img);\n",
        "    }\n",
        "\n",
        "    async function capture(){\n",
        "        return await new Promise(function(resolve, reject){\n",
        "            pendingResolve = resolve;\n",
        "            canvas.getContext('2d').drawImage(video, 0, 0);\n",
        "            result = canvas.toDataURL('image/jpeg', 0.8);\n",
        "            pendingResolve(result);\n",
        "        })\n",
        "    }\n",
        "\n",
        "    function showimg(imgb64){\n",
        "        img.src = \"data:image/jpg;base64,\" + imgb64;\n",
        "    }\n",
        "\n",
        "  ''')\n",
        "  display(js)\n",
        "\n",
        "def byte2image(byte):\n",
        "  jpeg = b64decode(byte.split(',')[1])\n",
        "  im = Image.open(io.BytesIO(jpeg))\n",
        "  return np.array(im,dtype=np.uint8)\n",
        "\n",
        "def image2byte(image):\n",
        "  image = Image.fromarray(image)\n",
        "  buffer = io.BytesIO()\n",
        "  image.save(buffer, 'jpeg')\n",
        "  buffer.seek(0)\n",
        "  x = b64encode(buffer.read()).decode('utf-8')\n",
        "  return x\n",
        "\n",
        "VideoCapture()\n",
        "eval_js('create()')\n",
        "\n",
        "byte = eval_js('capture()')\n",
        "frame = byte2image(byte)\n",
        "frame = cv2.cvtColor(frame, cv2.COLOR_BGR2RGB)\n",
        "        #success, frame = fram.read()  # read the camera frame\n",
        "        #if not success:\n",
        "         #   break\n",
        "       # else:\n",
        "#ret, buffer = cv2.imencode('.jpg', frame)\n",
        "#frame = buffer.tobytes()\n",
        "    #yield (b'--frame\\r\\n' b'Content-Type: image/jpeg\\r\\n\\r\\n' + frame + b'\\r\\n')  # concat frame one by one and show result\n",
        "\n",
        "\n",
        "#camera = VideoCapture()\n",
        "#eval_js('showimg(\"{}\")'.format(image2byte(camera)))\n",
        "cv2_imshow(frame)\n",
        "#display(Image(frame))\n",
        "#def gen_frames():  \n",
        "  #while True:\n",
        "'''byte = eval_js('capture()')\n",
        "    frame = byte2image(byte)\n",
        "        #success, frame = fram.read()  # read the camera frame\n",
        "        #if not success:\n",
        "         #   break\n",
        "       # else:\n",
        "    ret, buffer = cv2.imencode('.jpg', frame)\n",
        "    frame = buffer.tobytes()\n",
        "    yield (b'--frame\\r\\n' b'Content-Type: image/jpeg\\r\\n\\r\\n' + frame + b'\\r\\n')  # concat frame one by one and show result'''"
      ],
      "execution_count": null,
      "outputs": []
    },
    {
      "cell_type": "code",
      "metadata": {
        "id": "XrJOO869UQhe"
      },
      "source": [
        "def gen_frames():  \n",
        "    while True:\n",
        "      byte = eval_js('capture()')\n",
        "      frame = byte2image(byte)\n",
        "        #success, frame = fram.read()  # read the camera frame\n",
        "        #if not success:\n",
        "         #   break\n",
        "       # else:\n",
        "      ret, buffer = cv2.imencode('.jpg', frame)\n",
        "      frame = buffer.tobytes()\n",
        "      yield (b'--frame\\r\\n' b'Content-Type: image/jpeg\\r\\n\\r\\n' + frame + b'\\r\\n')  # concat frame one by one and show result"
      ],
      "execution_count": null,
      "outputs": []
    },
    {
      "cell_type": "code",
      "metadata": {
        "id": "JnrfjXELAAFJ"
      },
      "source": [
        "index=\"\"\"<body>\n",
        "<div class=\"container\">\n",
        "    <div class=\"row\">\n",
        "        <div class=\"col-lg-8  offset-lg-2\">\n",
        "            <h3 class=\"mt-5\">Live Streaming</h3>\n",
        "            <img src=\"{{ url_for('video_feed') }}\" width=\"100%\">\n",
        "        </div>\n",
        "    </div>\n",
        "</div>\n",
        "</body>\"\"\"\n",
        "file=open(\"templates/index.html\",\"w\")  \n",
        "file.write(index)\n",
        "file.close()"
      ],
      "execution_count": null,
      "outputs": []
    },
    {
      "cell_type": "code",
      "metadata": {
        "id": "PY48uOnk-7xs"
      },
      "source": [
        "from flask_ngrok import run_with_ngrok\n",
        "from flask import Flask,render_template,Response"
      ],
      "execution_count": null,
      "outputs": []
    },
    {
      "cell_type": "code",
      "metadata": {
        "colab": {
          "base_uri": "https://localhost:8080/"
        },
        "id": "Mh0QYZGTWQjX",
        "outputId": "7666b8af-f392-495f-c890-effb16ae697d"
      },
      "source": [
        "from flask_ngrok import run_with_ngrok\n",
        "from flask import Flask,render_template,Response\n",
        "s=\"<h1>hello world</h1>\"\n",
        "##Running the flask app\n",
        "app =Flask(__name__)\n",
        "#We need to start ngrok when the app is run\n",
        "run_with_ngrok(app)\n",
        "@app.route('/',methods=['POST','GET'])\n",
        "def index():\n",
        "    return render_template('index.html')\n",
        "@app.route('/video_feed',methods=['POST'])\n",
        "def video_feed():\n",
        "    return 'https://docs.opencv.org'#Response(gen_frames())#, mimetype='multipart/x-mixed-replace, boundary=frame')\n",
        "if __name__ == \"__main__\":\n",
        "    app.run()        "
      ],
      "execution_count": null,
      "outputs": [
        {
          "output_type": "stream",
          "text": [
            " * Running on http://127.0.0.1:5000/ (Press CTRL+C to quit)\n"
          ],
          "name": "stderr"
        },
        {
          "output_type": "stream",
          "text": [
            " * Running on http://d2842bb4900b.ngrok.io\n",
            " * Traffic stats available on http://127.0.0.1:4040\n"
          ],
          "name": "stdout"
        },
        {
          "output_type": "stream",
          "text": [
            "127.0.0.1 - - [25/Apr/2021 17:54:46] \"\u001b[37mGET / HTTP/1.1\u001b[0m\" 200 -\n",
            "127.0.0.1 - - [25/Apr/2021 17:54:46] \"\u001b[31m\u001b[1mGET /video_feed HTTP/1.1\u001b[0m\" 405 -\n",
            "127.0.0.1 - - [25/Apr/2021 17:54:47] \"\u001b[33mGET /favicon.ico HTTP/1.1\u001b[0m\" 404 -\n",
            "127.0.0.1 - - [25/Apr/2021 17:54:47] \"\u001b[37mGET / HTTP/1.1\u001b[0m\" 200 -\n",
            "127.0.0.1 - - [25/Apr/2021 17:54:49] \"\u001b[31m\u001b[1mGET /video_feed HTTP/1.1\u001b[0m\" 405 -\n"
          ],
          "name": "stderr"
        }
      ]
    },
    {
      "cell_type": "code",
      "metadata": {
        "id": "EQDrwoNhzFOC"
      },
      "source": [
        "v=\"\"\"<style>@import url('https://fonts.googleapis.com/css2?family=Montserrat&display=swap');\n",
        "@import url('https://fonts.googleapis.com/css2?family=Londrina+Solid:wght@300&family=Montserrat&display=swap');\n",
        "  .header \n",
        "  {\n",
        "    padding: .1em 1.6em;\n",
        "text-align: center;\n",
        "background: #333;\n",
        "color: red;\n",
        "font-size: 22px;\n",
        "font-family: 'Londrina Solid', cursive; \n",
        "\n",
        "  }\n",
        "  .buttona \n",
        "{\n",
        "border: none;\n",
        "color: white;\n",
        "padding: 15px 32px;\n",
        "text-align: center;\n",
        "text-decoration: none;\n",
        "display: inline-block;\n",
        "font-size: 16px;\n",
        "margin: 4px 250px;\n",
        "cursor: pointer;\n",
        "}\n",
        "  .buttonb \n",
        "{\n",
        "border: none;\n",
        "color: white;\n",
        "padding: 15px 32px;\n",
        "text-align: justify;\n",
        "text-decoration: none;\n",
        "display: inline-block;\n",
        "font-size: 16px;\n",
        "margin: 90px 230px;\n",
        "cursor: pointer;\n",
        " }\n",
        ".button1 {background-color: #333;}\n",
        ".button2 {background-color: #333;}\n",
        "  .box\n",
        "  {\n",
        "      width: 5px;\n",
        "border: 4px solid #333;\n",
        "\n",
        "\n",
        "  }\n",
        "  .centerl\n",
        "  {\n",
        "    \n",
        "  text-align: center;\n",
        "background: black;\n",
        "color: #27b898;\n",
        "font-size: 12px;\n",
        "font-family: 'Montserrat', sans-serif;\n",
        "  }\n",
        "  .centerr\n",
        "  {\n",
        " \n",
        "  text-align: center;\n",
        "background: black;\n",
        "color: #27b898;\n",
        "font-size: 12px;\n",
        "font-family: 'Montserrat', sans-serif;\n",
        "  }\n",
        "  .container{\n",
        "      display: flex;\n",
        "\n",
        "  }\n",
        "  .container >div{\n",
        "      width: 50%;\n",
        "  }\n",
        "  #videoElement {\n",
        "\twidth: 672px;\n",
        "\theight: 375px;\n",
        "\tbackground-color: #666;\n",
        "}\n",
        "</style>\n",
        "<div class=\"header\">\n",
        "  \n",
        "  <h1>SAFETY SOLUTION</h1>\n",
        "  \n",
        "</div>\n",
        "<div class=\"container\">\n",
        "<div class= \"centerl\">\n",
        "  <h2>Allign your face here </h2>\n",
        "</div>\n",
        "\n",
        "<div class= \"centerr\">\n",
        "  <h2>Prediction </h2>\n",
        "</div>\n",
        "</div>\n",
        "<div class=\"container\">\n",
        "    <div class= \"box\">\n",
        "      <video autoplay=\"true\" id=\"videoElement\">\n",
        "\t\n",
        "      </video>\n",
        "    </div>\n",
        " \n",
        "    <div>\n",
        "        <button class= \"buttonb button2\">\n",
        "\n",
        "result will be displayed here. either the person is wearing safety helmet and masks or not\n",
        "</button>\n",
        "    </div>\n",
        "    \n",
        "</div>\n",
        "<button class= \"buttona button1\" action=\"/about\" >\n",
        "\n",
        "  SHOW RESULT\n",
        "  </button>\n",
        "  <script>\n",
        "var video = document.querySelector(\"#videoElement\");\n",
        "\n",
        "if (navigator.mediaDevices.getUserMedia) {\n",
        "  navigator.mediaDevices.getUserMedia({ video: true })\n",
        "    .then(function (stream) {\n",
        "      video.srcObject = stream;\n",
        "    })\n",
        "    .catch(function (err0r) {\n",
        "      console.log(\"Something went wrong!\");\n",
        "    });\n",
        "}\n",
        "  </script>\"\"\"\n",
        "\n",
        "file=open(\"templates/test.html\",\"w\")  \n",
        "file.write(v)\n",
        "file.close()"
      ],
      "execution_count": null,
      "outputs": []
    },
    {
      "cell_type": "code",
      "metadata": {
        "id": "02vUYcAUTpRT"
      },
      "source": [
        "from IPython.display import display, Javascript\n",
        "from google.colab.output import eval_js\n",
        "from base64 import b64decode\n",
        "\n",
        "def take_photo(filename='photo.jpg', quality=0.8):\n",
        "  js = Javascript('''\n",
        "    async function takePhoto(quality) {\n",
        "      const div = document.createElement('div');\n",
        "      const capture = document.createElement('button');\n",
        "      capture.textContent = 'Capture';\n",
        "      div.appendChild(capture);\n",
        "\n",
        "      const video = document.createElement('video');\n",
        "      video.style.display = 'block';\n",
        "      const stream = await navigator.mediaDevices.getUserMedia({video: true});\n",
        "\n",
        "      document.body.appendChild(div);\n",
        "      div.appendChild(video);\n",
        "      video.srcObject = stream;\n",
        "      await video.play();\n",
        "\n",
        "      // Resize the output to fit the video element.\n",
        "      google.colab.output.setIframeHeight(document.documentElement.scrollHeight, true);\n",
        "\n",
        "      // Wait for Capture to be clicked.\n",
        "      await new Promise((resolve) => capture.onclick = resolve);\n",
        "\n",
        "      const canvas = document.createElement('canvas');\n",
        "      canvas.width = video.videoWidth;\n",
        "      canvas.height = video.videoHeight;\n",
        "      canvas.getContext('2d').drawImage(video, 0, 0);\n",
        "      stream.getVideoTracks()[0].stop();\n",
        "      div.remove();\n",
        "      return canvas.toDataURL('image/jpeg', quality);\n",
        "    }\n",
        "    ''')\n",
        "  display(js)\n",
        "  data = eval_js('takePhoto({})'.format(quality))\n",
        "  binary = b64decode(data.split(',')[1])\n",
        "  with open(filename, 'wb') as f:\n",
        "    f.write(binary)\n",
        "  return filename\n",
        "\n",
        "from IPython.display import Image\n",
        "try:\n",
        "  filename = take_photo()\n",
        "  print('Saved to {}'.format(filename))\n",
        "  \n",
        "  # Show the image which was just taken.\n",
        "  display(Image(filename))\n",
        "except Exception as err:\n",
        "  # Errors will be thrown if the user does not have a webcam or if they do not\n",
        "  # grant the page permission to access it.\n",
        "  print(str(err))"
      ],
      "execution_count": null,
      "outputs": []
    },
    {
      "cell_type": "code",
      "metadata": {
        "id": "umIDlLXWTpRZ"
      },
      "source": [
        "from IPython.display import Image\n",
        "try:\n",
        "  filename = take_photo()\n",
        "  print('Saved to {}'.format(filename))\n",
        "  \n",
        "  # Show the image which was just taken.\n",
        "  display(Image(filename))\n",
        "except Exception as err:\n",
        "  # Errors will be thrown if the user does not have a webcam or if they do not\n",
        "  # grant the page permission to access it.\n",
        "  print(str(err))"
      ],
      "execution_count": null,
      "outputs": []
    },
    {
      "cell_type": "code",
      "metadata": {
        "id": "ObIMNccau5rw"
      },
      "source": [
        ""
      ],
      "execution_count": null,
      "outputs": []
    }
  ]
}